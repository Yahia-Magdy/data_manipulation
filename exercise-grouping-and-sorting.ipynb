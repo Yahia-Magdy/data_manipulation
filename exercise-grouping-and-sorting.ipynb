{
 "cells": [
  {
   "cell_type": "markdown",
   "id": "2e467a4e",
   "metadata": {
    "papermill": {
     "duration": 0.007803,
     "end_time": "2022-07-02T02:28:47.377160",
     "exception": false,
     "start_time": "2022-07-02T02:28:47.369357",
     "status": "completed"
    },
    "tags": []
   },
   "source": [
    "**This notebook is an exercise in the [Pandas](https://www.kaggle.com/learn/pandas) course.  You can reference the tutorial at [this link](https://www.kaggle.com/residentmario/grouping-and-sorting).**\n",
    "\n",
    "---\n"
   ]
  },
  {
   "cell_type": "markdown",
   "id": "ab09d2ba",
   "metadata": {
    "papermill": {
     "duration": 0.006989,
     "end_time": "2022-07-02T02:28:47.391591",
     "exception": false,
     "start_time": "2022-07-02T02:28:47.384602",
     "status": "completed"
    },
    "tags": []
   },
   "source": [
    "# Introduction\n",
    "\n",
    "In these exercises we'll apply groupwise analysis to our dataset.\n",
    "\n",
    "Run the code cell below to load the data before running the exercises."
   ]
  },
  {
   "cell_type": "code",
   "execution_count": 1,
   "id": "ee110fce",
   "metadata": {
    "execution": {
     "iopub.execute_input": "2022-07-02T02:28:47.407834Z",
     "iopub.status.busy": "2022-07-02T02:28:47.407150Z",
     "iopub.status.idle": "2022-07-02T02:28:50.310927Z",
     "shell.execute_reply": "2022-07-02T02:28:50.309778Z"
    },
    "papermill": {
     "duration": 2.915607,
     "end_time": "2022-07-02T02:28:50.314080",
     "exception": false,
     "start_time": "2022-07-02T02:28:47.398473",
     "status": "completed"
    },
    "tags": []
   },
   "outputs": [
    {
     "name": "stdout",
     "output_type": "stream",
     "text": [
      "Setup complete.\n"
     ]
    }
   ],
   "source": [
    "import pandas as pd\n",
    "\n",
    "reviews = pd.read_csv(\"../input/wine-reviews/winemag-data-130k-v2.csv\", index_col=0)\n",
    "#pd.set_option(\"display.max_rows\", 5)\n",
    "\n",
    "from learntools.core import binder; binder.bind(globals())\n",
    "from learntools.pandas.grouping_and_sorting import *\n",
    "print(\"Setup complete.\")"
   ]
  },
  {
   "cell_type": "markdown",
   "id": "8fa7c30c",
   "metadata": {
    "papermill": {
     "duration": 0.006938,
     "end_time": "2022-07-02T02:28:50.328057",
     "exception": false,
     "start_time": "2022-07-02T02:28:50.321119",
     "status": "completed"
    },
    "tags": []
   },
   "source": [
    "# Exercises"
   ]
  },
  {
   "cell_type": "markdown",
   "id": "c39747f8",
   "metadata": {
    "papermill": {
     "duration": 0.006831,
     "end_time": "2022-07-02T02:28:50.341685",
     "exception": false,
     "start_time": "2022-07-02T02:28:50.334854",
     "status": "completed"
    },
    "tags": []
   },
   "source": [
    "## 1.\n",
    "Who are the most common wine reviewers in the dataset? Create a `Series` whose index is the `taster_twitter_handle` category from the dataset, and whose values count how many reviews each person wrote."
   ]
  },
  {
   "cell_type": "code",
   "execution_count": 2,
   "id": "fdf90ecc",
   "metadata": {
    "execution": {
     "iopub.execute_input": "2022-07-02T02:28:50.357152Z",
     "iopub.status.busy": "2022-07-02T02:28:50.356574Z",
     "iopub.status.idle": "2022-07-02T02:28:50.396667Z",
     "shell.execute_reply": "2022-07-02T02:28:50.395806Z"
    },
    "papermill": {
     "duration": 0.050315,
     "end_time": "2022-07-02T02:28:50.398851",
     "exception": false,
     "start_time": "2022-07-02T02:28:50.348536",
     "status": "completed"
    },
    "tags": []
   },
   "outputs": [
    {
     "data": {
      "application/javascript": [
       "parent.postMessage({\"jupyterEvent\": \"custom.exercise_interaction\", \"data\": {\"outcomeType\": 1, \"valueTowardsCompletion\": 0.16666666666666666, \"interactionType\": 1, \"questionType\": 1, \"questionId\": \"1_ReviewsWritten\", \"learnToolsVersion\": \"0.3.4\", \"failureMessage\": \"\", \"exceptionClass\": \"\", \"trace\": \"\"}}, \"*\")"
      ],
      "text/plain": [
       "<IPython.core.display.Javascript object>"
      ]
     },
     "metadata": {},
     "output_type": "display_data"
    },
    {
     "data": {
      "text/markdown": [
       "<span style=\"color:#33cc33\">Correct:</span> \n",
       "\n",
       "\n",
       "```python\n",
       "reviews_written = reviews.groupby('taster_twitter_handle').size()\n",
       "```\n",
       "or\n",
       "```python\n",
       "reviews_written = reviews.groupby('taster_twitter_handle').taster_twitter_handle.count()\n",
       "```\n"
      ],
      "text/plain": [
       "Correct: \n",
       "\n",
       "\n",
       "```python\n",
       "reviews_written = reviews.groupby('taster_twitter_handle').size()\n",
       "```\n",
       "or\n",
       "```python\n",
       "reviews_written = reviews.groupby('taster_twitter_handle').taster_twitter_handle.count()\n",
       "```"
      ]
     },
     "metadata": {},
     "output_type": "display_data"
    }
   ],
   "source": [
    "# Your code here\n",
    "reviews_written = reviews.groupby('taster_twitter_handle').taster_twitter_handle.count()\n",
    "\n",
    "# Check your answer\n",
    "q1.check()"
   ]
  },
  {
   "cell_type": "code",
   "execution_count": 3,
   "id": "0d31ead8",
   "metadata": {
    "execution": {
     "iopub.execute_input": "2022-07-02T02:28:50.414774Z",
     "iopub.status.busy": "2022-07-02T02:28:50.414367Z",
     "iopub.status.idle": "2022-07-02T02:28:50.418462Z",
     "shell.execute_reply": "2022-07-02T02:28:50.417441Z"
    },
    "papermill": {
     "duration": 0.014868,
     "end_time": "2022-07-02T02:28:50.420791",
     "exception": false,
     "start_time": "2022-07-02T02:28:50.405923",
     "status": "completed"
    },
    "tags": []
   },
   "outputs": [],
   "source": [
    "#q1.hint()\n",
    "#q1.solution()"
   ]
  },
  {
   "cell_type": "markdown",
   "id": "c809c55f",
   "metadata": {
    "papermill": {
     "duration": 0.006602,
     "end_time": "2022-07-02T02:28:50.434382",
     "exception": false,
     "start_time": "2022-07-02T02:28:50.427780",
     "status": "completed"
    },
    "tags": []
   },
   "source": [
    "## 2.\n",
    "What is the best wine I can buy for a given amount of money? Create a `Series` whose index is wine prices and whose values is the maximum number of points a wine costing that much was given in a review. Sort the values by price, ascending (so that `4.0` dollars is at the top and `3300.0` dollars is at the bottom)."
   ]
  },
  {
   "cell_type": "code",
   "execution_count": 4,
   "id": "c07cf319",
   "metadata": {
    "execution": {
     "iopub.execute_input": "2022-07-02T02:28:50.450079Z",
     "iopub.status.busy": "2022-07-02T02:28:50.449675Z",
     "iopub.status.idle": "2022-07-02T02:28:50.464368Z",
     "shell.execute_reply": "2022-07-02T02:28:50.463065Z"
    },
    "papermill": {
     "duration": 0.025462,
     "end_time": "2022-07-02T02:28:50.466750",
     "exception": false,
     "start_time": "2022-07-02T02:28:50.441288",
     "status": "completed"
    },
    "tags": []
   },
   "outputs": [
    {
     "data": {
      "application/javascript": [
       "parent.postMessage({\"jupyterEvent\": \"custom.exercise_interaction\", \"data\": {\"outcomeType\": 1, \"valueTowardsCompletion\": 0.16666666666666666, \"interactionType\": 1, \"questionType\": 1, \"questionId\": \"2_BestRatingPerPrice\", \"learnToolsVersion\": \"0.3.4\", \"failureMessage\": \"\", \"exceptionClass\": \"\", \"trace\": \"\"}}, \"*\")"
      ],
      "text/plain": [
       "<IPython.core.display.Javascript object>"
      ]
     },
     "metadata": {},
     "output_type": "display_data"
    },
    {
     "data": {
      "text/markdown": [
       "<span style=\"color:#33cc33\">Correct</span>"
      ],
      "text/plain": [
       "Correct"
      ]
     },
     "metadata": {},
     "output_type": "display_data"
    }
   ],
   "source": [
    "best_rating_per_price = reviews.groupby(\"price\").points.max()\n",
    "best_rating_per_price.sort_index()\n",
    "\n",
    "# Check your answer\n",
    "q2.check()"
   ]
  },
  {
   "cell_type": "code",
   "execution_count": 5,
   "id": "8c0a132e",
   "metadata": {
    "execution": {
     "iopub.execute_input": "2022-07-02T02:28:50.483643Z",
     "iopub.status.busy": "2022-07-02T02:28:50.483165Z",
     "iopub.status.idle": "2022-07-02T02:28:50.488463Z",
     "shell.execute_reply": "2022-07-02T02:28:50.487154Z"
    },
    "papermill": {
     "duration": 0.016817,
     "end_time": "2022-07-02T02:28:50.490992",
     "exception": false,
     "start_time": "2022-07-02T02:28:50.474175",
     "status": "completed"
    },
    "tags": []
   },
   "outputs": [],
   "source": [
    "#q2.hint()\n",
    "#q2.solution()"
   ]
  },
  {
   "cell_type": "markdown",
   "id": "f7b50832",
   "metadata": {
    "papermill": {
     "duration": 0.007415,
     "end_time": "2022-07-02T02:28:50.506099",
     "exception": false,
     "start_time": "2022-07-02T02:28:50.498684",
     "status": "completed"
    },
    "tags": []
   },
   "source": [
    "## 3.\n",
    "What are the minimum and maximum prices for each `variety` of wine? Create a `DataFrame` whose index is the `variety` category from the dataset and whose values are the `min` and `max` values thereof."
   ]
  },
  {
   "cell_type": "code",
   "execution_count": 6,
   "id": "4ea2568b",
   "metadata": {
    "execution": {
     "iopub.execute_input": "2022-07-02T02:28:50.522513Z",
     "iopub.status.busy": "2022-07-02T02:28:50.522114Z",
     "iopub.status.idle": "2022-07-02T02:28:50.554940Z",
     "shell.execute_reply": "2022-07-02T02:28:50.553787Z"
    },
    "papermill": {
     "duration": 0.043746,
     "end_time": "2022-07-02T02:28:50.557259",
     "exception": false,
     "start_time": "2022-07-02T02:28:50.513513",
     "status": "completed"
    },
    "tags": []
   },
   "outputs": [
    {
     "data": {
      "application/javascript": [
       "parent.postMessage({\"jupyterEvent\": \"custom.exercise_interaction\", \"data\": {\"outcomeType\": 1, \"valueTowardsCompletion\": 0.16666666666666666, \"interactionType\": 1, \"questionType\": 1, \"questionId\": \"3_PriceExtremes\", \"learnToolsVersion\": \"0.3.4\", \"failureMessage\": \"\", \"exceptionClass\": \"\", \"trace\": \"\"}}, \"*\")"
      ],
      "text/plain": [
       "<IPython.core.display.Javascript object>"
      ]
     },
     "metadata": {},
     "output_type": "display_data"
    },
    {
     "data": {
      "text/markdown": [
       "<span style=\"color:#33cc33\">Correct</span>"
      ],
      "text/plain": [
       "Correct"
      ]
     },
     "metadata": {},
     "output_type": "display_data"
    }
   ],
   "source": [
    "price_extremes = reviews.groupby('variety').price.agg( [min, max])\n",
    "\n",
    "# Check your answer\n",
    "q3.check()"
   ]
  },
  {
   "cell_type": "code",
   "execution_count": 7,
   "id": "68a8c9d9",
   "metadata": {
    "execution": {
     "iopub.execute_input": "2022-07-02T02:28:50.574745Z",
     "iopub.status.busy": "2022-07-02T02:28:50.573955Z",
     "iopub.status.idle": "2022-07-02T02:28:50.579321Z",
     "shell.execute_reply": "2022-07-02T02:28:50.578170Z"
    },
    "papermill": {
     "duration": 0.01707,
     "end_time": "2022-07-02T02:28:50.581956",
     "exception": false,
     "start_time": "2022-07-02T02:28:50.564886",
     "status": "completed"
    },
    "tags": []
   },
   "outputs": [],
   "source": [
    "#q3.hint()\n",
    "#q3.solution()"
   ]
  },
  {
   "cell_type": "markdown",
   "id": "026bdda1",
   "metadata": {
    "papermill": {
     "duration": 0.007262,
     "end_time": "2022-07-02T02:28:50.597069",
     "exception": false,
     "start_time": "2022-07-02T02:28:50.589807",
     "status": "completed"
    },
    "tags": []
   },
   "source": [
    "## 4.\n",
    "What are the most expensive wine varieties? Create a variable `sorted_varieties` containing a copy of the dataframe from the previous question where varieties are sorted in descending order based on minimum price, then on maximum price (to break ties)."
   ]
  },
  {
   "cell_type": "code",
   "execution_count": 8,
   "id": "9482876f",
   "metadata": {
    "execution": {
     "iopub.execute_input": "2022-07-02T02:28:50.613655Z",
     "iopub.status.busy": "2022-07-02T02:28:50.613277Z",
     "iopub.status.idle": "2022-07-02T02:28:50.626234Z",
     "shell.execute_reply": "2022-07-02T02:28:50.625038Z"
    },
    "papermill": {
     "duration": 0.024141,
     "end_time": "2022-07-02T02:28:50.628636",
     "exception": false,
     "start_time": "2022-07-02T02:28:50.604495",
     "status": "completed"
    },
    "tags": []
   },
   "outputs": [
    {
     "data": {
      "application/javascript": [
       "parent.postMessage({\"jupyterEvent\": \"custom.exercise_interaction\", \"data\": {\"outcomeType\": 1, \"valueTowardsCompletion\": 0.16666666666666666, \"interactionType\": 1, \"questionType\": 1, \"questionId\": \"4_SortedVarieties\", \"learnToolsVersion\": \"0.3.4\", \"failureMessage\": \"\", \"exceptionClass\": \"\", \"trace\": \"\"}}, \"*\")"
      ],
      "text/plain": [
       "<IPython.core.display.Javascript object>"
      ]
     },
     "metadata": {},
     "output_type": "display_data"
    },
    {
     "data": {
      "text/markdown": [
       "<span style=\"color:#33cc33\">Correct</span>"
      ],
      "text/plain": [
       "Correct"
      ]
     },
     "metadata": {},
     "output_type": "display_data"
    }
   ],
   "source": [
    "sorted_varieties = price_extremes.sort_values(by=['min', 'max'],ascending=False)\n",
    "\n",
    "# Check your answer\n",
    "q4.check()"
   ]
  },
  {
   "cell_type": "code",
   "execution_count": 9,
   "id": "cf690307",
   "metadata": {
    "execution": {
     "iopub.execute_input": "2022-07-02T02:28:50.647287Z",
     "iopub.status.busy": "2022-07-02T02:28:50.646506Z",
     "iopub.status.idle": "2022-07-02T02:28:50.650233Z",
     "shell.execute_reply": "2022-07-02T02:28:50.649465Z"
    },
    "papermill": {
     "duration": 0.01494,
     "end_time": "2022-07-02T02:28:50.652175",
     "exception": false,
     "start_time": "2022-07-02T02:28:50.637235",
     "status": "completed"
    },
    "tags": []
   },
   "outputs": [],
   "source": [
    "#q4.hint()\n",
    "#q4.solution()"
   ]
  },
  {
   "cell_type": "markdown",
   "id": "0b944319",
   "metadata": {
    "papermill": {
     "duration": 0.007605,
     "end_time": "2022-07-02T02:28:50.667664",
     "exception": false,
     "start_time": "2022-07-02T02:28:50.660059",
     "status": "completed"
    },
    "tags": []
   },
   "source": [
    "## 5.\n",
    "Create a `Series` whose index is reviewers and whose values is the average review score given out by that reviewer. Hint: you will need the `taster_name` and `points` columns."
   ]
  },
  {
   "cell_type": "code",
   "execution_count": 10,
   "id": "f75cc77c",
   "metadata": {
    "execution": {
     "iopub.execute_input": "2022-07-02T02:28:50.685193Z",
     "iopub.status.busy": "2022-07-02T02:28:50.684774Z",
     "iopub.status.idle": "2022-07-02T02:28:50.712539Z",
     "shell.execute_reply": "2022-07-02T02:28:50.711779Z"
    },
    "papermill": {
     "duration": 0.039245,
     "end_time": "2022-07-02T02:28:50.714817",
     "exception": false,
     "start_time": "2022-07-02T02:28:50.675572",
     "status": "completed"
    },
    "tags": []
   },
   "outputs": [
    {
     "data": {
      "application/javascript": [
       "parent.postMessage({\"jupyterEvent\": \"custom.exercise_interaction\", \"data\": {\"outcomeType\": 1, \"valueTowardsCompletion\": 0.16666666666666666, \"interactionType\": 1, \"questionType\": 1, \"questionId\": \"5_ReviewerMeanRatings\", \"learnToolsVersion\": \"0.3.4\", \"failureMessage\": \"\", \"exceptionClass\": \"\", \"trace\": \"\"}}, \"*\")"
      ],
      "text/plain": [
       "<IPython.core.display.Javascript object>"
      ]
     },
     "metadata": {},
     "output_type": "display_data"
    },
    {
     "data": {
      "text/markdown": [
       "<span style=\"color:#33cc33\">Correct</span>"
      ],
      "text/plain": [
       "Correct"
      ]
     },
     "metadata": {},
     "output_type": "display_data"
    }
   ],
   "source": [
    "reviewer_mean_ratings = reviews.groupby('taster_name').points.mean()\n",
    "\n",
    "# Check your answer\n",
    "q5.check()"
   ]
  },
  {
   "cell_type": "code",
   "execution_count": 11,
   "id": "9cf14dd8",
   "metadata": {
    "execution": {
     "iopub.execute_input": "2022-07-02T02:28:50.733330Z",
     "iopub.status.busy": "2022-07-02T02:28:50.732398Z",
     "iopub.status.idle": "2022-07-02T02:28:50.737287Z",
     "shell.execute_reply": "2022-07-02T02:28:50.736535Z"
    },
    "papermill": {
     "duration": 0.016616,
     "end_time": "2022-07-02T02:28:50.739520",
     "exception": false,
     "start_time": "2022-07-02T02:28:50.722904",
     "status": "completed"
    },
    "tags": []
   },
   "outputs": [],
   "source": [
    "#q5.hint()\n",
    "#q5.solution()"
   ]
  },
  {
   "cell_type": "markdown",
   "id": "eb06cada",
   "metadata": {
    "papermill": {
     "duration": 0.007863,
     "end_time": "2022-07-02T02:28:50.755460",
     "exception": false,
     "start_time": "2022-07-02T02:28:50.747597",
     "status": "completed"
    },
    "tags": []
   },
   "source": [
    "Are there significant differences in the average scores assigned by the various reviewers? Run the cell below to use the `describe()` method to see a summary of the range of values."
   ]
  },
  {
   "cell_type": "code",
   "execution_count": 12,
   "id": "bc8d7f4a",
   "metadata": {
    "execution": {
     "iopub.execute_input": "2022-07-02T02:28:50.773486Z",
     "iopub.status.busy": "2022-07-02T02:28:50.772673Z",
     "iopub.status.idle": "2022-07-02T02:28:50.786878Z",
     "shell.execute_reply": "2022-07-02T02:28:50.785586Z"
    },
    "papermill": {
     "duration": 0.025901,
     "end_time": "2022-07-02T02:28:50.789364",
     "exception": false,
     "start_time": "2022-07-02T02:28:50.763463",
     "status": "completed"
    },
    "tags": []
   },
   "outputs": [
    {
     "data": {
      "text/plain": [
       "count    19.000000\n",
       "mean     88.233026\n",
       "std       1.243610\n",
       "min      85.855422\n",
       "25%      87.323501\n",
       "50%      88.536235\n",
       "75%      88.975256\n",
       "max      90.562551\n",
       "Name: points, dtype: float64"
      ]
     },
     "execution_count": 12,
     "metadata": {},
     "output_type": "execute_result"
    }
   ],
   "source": [
    "reviewer_mean_ratings.describe()"
   ]
  },
  {
   "cell_type": "markdown",
   "id": "3558d799",
   "metadata": {
    "papermill": {
     "duration": 0.007859,
     "end_time": "2022-07-02T02:28:50.805626",
     "exception": false,
     "start_time": "2022-07-02T02:28:50.797767",
     "status": "completed"
    },
    "tags": []
   },
   "source": [
    "## 6.\n",
    "What combination of countries and varieties are most common? Create a `Series` whose index is a `MultiIndex`of `{country, variety}` pairs. For example, a pinot noir produced in the US should map to `{\"US\", \"Pinot Noir\"}`. Sort the values in the `Series` in descending order based on wine count."
   ]
  },
  {
   "cell_type": "code",
   "execution_count": 13,
   "id": "485be411",
   "metadata": {
    "execution": {
     "iopub.execute_input": "2022-07-02T02:28:50.823895Z",
     "iopub.status.busy": "2022-07-02T02:28:50.823448Z",
     "iopub.status.idle": "2022-07-02T02:28:50.870136Z",
     "shell.execute_reply": "2022-07-02T02:28:50.869289Z"
    },
    "papermill": {
     "duration": 0.058302,
     "end_time": "2022-07-02T02:28:50.872115",
     "exception": false,
     "start_time": "2022-07-02T02:28:50.813813",
     "status": "completed"
    },
    "tags": []
   },
   "outputs": [
    {
     "data": {
      "application/javascript": [
       "parent.postMessage({\"jupyterEvent\": \"custom.exercise_interaction\", \"data\": {\"outcomeType\": 1, \"valueTowardsCompletion\": 0.16666666666666666, \"interactionType\": 1, \"questionType\": 1, \"questionId\": \"6_GroupbyCountryVariety\", \"learnToolsVersion\": \"0.3.4\", \"failureMessage\": \"\", \"exceptionClass\": \"\", \"trace\": \"\"}}, \"*\")"
      ],
      "text/plain": [
       "<IPython.core.display.Javascript object>"
      ]
     },
     "metadata": {},
     "output_type": "display_data"
    },
    {
     "data": {
      "text/markdown": [
       "<span style=\"color:#33cc33\">Correct</span>"
      ],
      "text/plain": [
       "Correct"
      ]
     },
     "metadata": {},
     "output_type": "display_data"
    }
   ],
   "source": [
    "country_variety_counts = reviews.groupby(['country','variety']).size().sort_values(ascending=False)\n",
    "\n",
    "# Check your answer\n",
    "q6.check()"
   ]
  },
  {
   "cell_type": "code",
   "execution_count": 14,
   "id": "54b01a94",
   "metadata": {
    "execution": {
     "iopub.execute_input": "2022-07-02T02:28:50.891354Z",
     "iopub.status.busy": "2022-07-02T02:28:50.890771Z",
     "iopub.status.idle": "2022-07-02T02:28:50.894205Z",
     "shell.execute_reply": "2022-07-02T02:28:50.893430Z"
    },
    "papermill": {
     "duration": 0.015617,
     "end_time": "2022-07-02T02:28:50.896187",
     "exception": false,
     "start_time": "2022-07-02T02:28:50.880570",
     "status": "completed"
    },
    "tags": []
   },
   "outputs": [],
   "source": [
    "#q6.hint()\n",
    "#q6.solution()"
   ]
  },
  {
   "cell_type": "markdown",
   "id": "6ba535c0",
   "metadata": {
    "papermill": {
     "duration": 0.008319,
     "end_time": "2022-07-02T02:28:50.913053",
     "exception": false,
     "start_time": "2022-07-02T02:28:50.904734",
     "status": "completed"
    },
    "tags": []
   },
   "source": [
    "# Keep going\n",
    "\n",
    "Move on to the [**data types and missing data**](https://www.kaggle.com/residentmario/data-types-and-missing-values)."
   ]
  },
  {
   "cell_type": "markdown",
   "id": "c0a21317",
   "metadata": {
    "papermill": {
     "duration": 0.008116,
     "end_time": "2022-07-02T02:28:50.930116",
     "exception": false,
     "start_time": "2022-07-02T02:28:50.922000",
     "status": "completed"
    },
    "tags": []
   },
   "source": [
    "---\n",
    "\n",
    "\n",
    "\n",
    "\n",
    "*Have questions or comments? Visit the [course discussion forum](https://www.kaggle.com/learn/pandas/discussion) to chat with other learners.*"
   ]
  }
 ],
 "metadata": {
  "kernelspec": {
   "display_name": "Python 3",
   "language": "python",
   "name": "python3"
  },
  "language_info": {
   "codemirror_mode": {
    "name": "ipython",
    "version": 3
   },
   "file_extension": ".py",
   "mimetype": "text/x-python",
   "name": "python",
   "nbconvert_exporter": "python",
   "pygments_lexer": "ipython3",
   "version": "3.7.12"
  },
  "papermill": {
   "default_parameters": {},
   "duration": 14.60572,
   "end_time": "2022-07-02T02:28:51.661270",
   "environment_variables": {},
   "exception": null,
   "input_path": "__notebook__.ipynb",
   "output_path": "__notebook__.ipynb",
   "parameters": {},
   "start_time": "2022-07-02T02:28:37.055550",
   "version": "2.3.4"
  }
 },
 "nbformat": 4,
 "nbformat_minor": 5
}
