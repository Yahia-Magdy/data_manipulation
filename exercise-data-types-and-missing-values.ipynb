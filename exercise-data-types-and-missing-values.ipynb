{
 "cells": [
  {
   "cell_type": "markdown",
   "id": "bcf2d467",
   "metadata": {
    "papermill": {
     "duration": 0.006069,
     "end_time": "2022-07-02T02:29:01.358003",
     "exception": false,
     "start_time": "2022-07-02T02:29:01.351934",
     "status": "completed"
    },
    "tags": []
   },
   "source": [
    "**This notebook is an exercise in the [Pandas](https://www.kaggle.com/learn/pandas) course.  You can reference the tutorial at [this link](https://www.kaggle.com/residentmario/data-types-and-missing-values).**\n",
    "\n",
    "---\n"
   ]
  },
  {
   "cell_type": "markdown",
   "id": "dc9afae7",
   "metadata": {
    "papermill": {
     "duration": 0.004677,
     "end_time": "2022-07-02T02:29:01.367859",
     "exception": false,
     "start_time": "2022-07-02T02:29:01.363182",
     "status": "completed"
    },
    "tags": []
   },
   "source": [
    "# Introduction\n",
    "\n",
    "Run the following cell to load your data and some utility functions."
   ]
  },
  {
   "cell_type": "code",
   "execution_count": 1,
   "id": "f6d3247f",
   "metadata": {
    "execution": {
     "iopub.execute_input": "2022-07-02T02:29:01.380586Z",
     "iopub.status.busy": "2022-07-02T02:29:01.379817Z",
     "iopub.status.idle": "2022-07-02T02:29:04.381247Z",
     "shell.execute_reply": "2022-07-02T02:29:04.379694Z"
    },
    "papermill": {
     "duration": 3.012062,
     "end_time": "2022-07-02T02:29:04.385071",
     "exception": false,
     "start_time": "2022-07-02T02:29:01.373009",
     "status": "completed"
    },
    "tags": []
   },
   "outputs": [
    {
     "name": "stdout",
     "output_type": "stream",
     "text": [
      "Setup complete.\n"
     ]
    }
   ],
   "source": [
    "import pandas as pd\n",
    "\n",
    "reviews = pd.read_csv(\"../input/wine-reviews/winemag-data-130k-v2.csv\", index_col=0)\n",
    "\n",
    "from learntools.core import binder; binder.bind(globals())\n",
    "from learntools.pandas.data_types_and_missing_data import *\n",
    "print(\"Setup complete.\")"
   ]
  },
  {
   "cell_type": "markdown",
   "id": "23d0a08c",
   "metadata": {
    "papermill": {
     "duration": 0.005095,
     "end_time": "2022-07-02T02:29:04.396216",
     "exception": false,
     "start_time": "2022-07-02T02:29:04.391121",
     "status": "completed"
    },
    "tags": []
   },
   "source": [
    "# Exercises"
   ]
  },
  {
   "cell_type": "markdown",
   "id": "30a2dc2b",
   "metadata": {
    "papermill": {
     "duration": 0.004803,
     "end_time": "2022-07-02T02:29:04.405957",
     "exception": false,
     "start_time": "2022-07-02T02:29:04.401154",
     "status": "completed"
    },
    "tags": []
   },
   "source": [
    "## 1. \n",
    "What is the data type of the `points` column in the dataset?"
   ]
  },
  {
   "cell_type": "code",
   "execution_count": 2,
   "id": "e3a511fb",
   "metadata": {
    "execution": {
     "iopub.execute_input": "2022-07-02T02:29:04.417319Z",
     "iopub.status.busy": "2022-07-02T02:29:04.416908Z",
     "iopub.status.idle": "2022-07-02T02:29:04.430113Z",
     "shell.execute_reply": "2022-07-02T02:29:04.428856Z"
    },
    "papermill": {
     "duration": 0.021835,
     "end_time": "2022-07-02T02:29:04.432628",
     "exception": false,
     "start_time": "2022-07-02T02:29:04.410793",
     "status": "completed"
    },
    "tags": []
   },
   "outputs": [
    {
     "data": {
      "application/javascript": [
       "parent.postMessage({\"jupyterEvent\": \"custom.exercise_interaction\", \"data\": {\"outcomeType\": 1, \"valueTowardsCompletion\": 0.25, \"interactionType\": 1, \"questionType\": 1, \"questionId\": \"1_PointsDtype\", \"learnToolsVersion\": \"0.3.4\", \"failureMessage\": \"\", \"exceptionClass\": \"\", \"trace\": \"\"}}, \"*\")"
      ],
      "text/plain": [
       "<IPython.core.display.Javascript object>"
      ]
     },
     "metadata": {},
     "output_type": "display_data"
    },
    {
     "data": {
      "text/markdown": [
       "<span style=\"color:#33cc33\">Correct</span>"
      ],
      "text/plain": [
       "Correct"
      ]
     },
     "metadata": {},
     "output_type": "display_data"
    }
   ],
   "source": [
    "# Your code here\n",
    "dtype = reviews.points.dtype\n",
    "\n",
    "# Check your answer\n",
    "q1.check()"
   ]
  },
  {
   "cell_type": "code",
   "execution_count": 3,
   "id": "40cec056",
   "metadata": {
    "execution": {
     "iopub.execute_input": "2022-07-02T02:29:04.445355Z",
     "iopub.status.busy": "2022-07-02T02:29:04.444376Z",
     "iopub.status.idle": "2022-07-02T02:29:04.449843Z",
     "shell.execute_reply": "2022-07-02T02:29:04.448614Z"
    },
    "papermill": {
     "duration": 0.014333,
     "end_time": "2022-07-02T02:29:04.452286",
     "exception": false,
     "start_time": "2022-07-02T02:29:04.437953",
     "status": "completed"
    },
    "tags": []
   },
   "outputs": [],
   "source": [
    "#q1.hint()\n",
    "#q1.solution()"
   ]
  },
  {
   "cell_type": "markdown",
   "id": "519b6f22",
   "metadata": {
    "papermill": {
     "duration": 0.005016,
     "end_time": "2022-07-02T02:29:04.462759",
     "exception": false,
     "start_time": "2022-07-02T02:29:04.457743",
     "status": "completed"
    },
    "tags": []
   },
   "source": [
    "## 2. \n",
    "Create a Series from entries in the `points` column, but convert the entries to strings. Hint: strings are `str` in native Python."
   ]
  },
  {
   "cell_type": "code",
   "execution_count": 4,
   "id": "76d7b50a",
   "metadata": {
    "execution": {
     "iopub.execute_input": "2022-07-02T02:29:04.475175Z",
     "iopub.status.busy": "2022-07-02T02:29:04.474787Z",
     "iopub.status.idle": "2022-07-02T02:29:04.611068Z",
     "shell.execute_reply": "2022-07-02T02:29:04.609824Z"
    },
    "papermill": {
     "duration": 0.145497,
     "end_time": "2022-07-02T02:29:04.613573",
     "exception": false,
     "start_time": "2022-07-02T02:29:04.468076",
     "status": "completed"
    },
    "tags": []
   },
   "outputs": [
    {
     "data": {
      "application/javascript": [
       "parent.postMessage({\"jupyterEvent\": \"custom.exercise_interaction\", \"data\": {\"outcomeType\": 1, \"valueTowardsCompletion\": 0.25, \"interactionType\": 1, \"questionType\": 1, \"questionId\": \"2_StrPoints\", \"learnToolsVersion\": \"0.3.4\", \"failureMessage\": \"\", \"exceptionClass\": \"\", \"trace\": \"\"}}, \"*\")"
      ],
      "text/plain": [
       "<IPython.core.display.Javascript object>"
      ]
     },
     "metadata": {},
     "output_type": "display_data"
    },
    {
     "data": {
      "text/markdown": [
       "<span style=\"color:#33cc33\">Correct</span>"
      ],
      "text/plain": [
       "Correct"
      ]
     },
     "metadata": {},
     "output_type": "display_data"
    }
   ],
   "source": [
    "point_strings = reviews.points.astype('str')\n",
    "\n",
    "# Check your answer\n",
    "q2.check()"
   ]
  },
  {
   "cell_type": "code",
   "execution_count": 5,
   "id": "80e63634",
   "metadata": {
    "execution": {
     "iopub.execute_input": "2022-07-02T02:29:04.626210Z",
     "iopub.status.busy": "2022-07-02T02:29:04.625842Z",
     "iopub.status.idle": "2022-07-02T02:29:04.630904Z",
     "shell.execute_reply": "2022-07-02T02:29:04.629709Z"
    },
    "papermill": {
     "duration": 0.014032,
     "end_time": "2022-07-02T02:29:04.633181",
     "exception": false,
     "start_time": "2022-07-02T02:29:04.619149",
     "status": "completed"
    },
    "tags": []
   },
   "outputs": [],
   "source": [
    "#q2.hint()\n",
    "#q2.solution()"
   ]
  },
  {
   "cell_type": "markdown",
   "id": "39d10bdd",
   "metadata": {
    "papermill": {
     "duration": 0.005471,
     "end_time": "2022-07-02T02:29:04.644275",
     "exception": false,
     "start_time": "2022-07-02T02:29:04.638804",
     "status": "completed"
    },
    "tags": []
   },
   "source": [
    "## 3.\n",
    "Sometimes the price column is null. How many reviews in the dataset are missing a price?"
   ]
  },
  {
   "cell_type": "code",
   "execution_count": 6,
   "id": "781bdb76",
   "metadata": {
    "execution": {
     "iopub.execute_input": "2022-07-02T02:29:04.656898Z",
     "iopub.status.busy": "2022-07-02T02:29:04.656462Z",
     "iopub.status.idle": "2022-07-02T02:29:04.667549Z",
     "shell.execute_reply": "2022-07-02T02:29:04.666479Z"
    },
    "papermill": {
     "duration": 0.020337,
     "end_time": "2022-07-02T02:29:04.670031",
     "exception": false,
     "start_time": "2022-07-02T02:29:04.649694",
     "status": "completed"
    },
    "tags": []
   },
   "outputs": [
    {
     "data": {
      "application/javascript": [
       "parent.postMessage({\"jupyterEvent\": \"custom.exercise_interaction\", \"data\": {\"outcomeType\": 1, \"valueTowardsCompletion\": 0.25, \"interactionType\": 1, \"questionType\": 1, \"questionId\": \"3_CountMissingPrices\", \"learnToolsVersion\": \"0.3.4\", \"failureMessage\": \"\", \"exceptionClass\": \"\", \"trace\": \"\"}}, \"*\")"
      ],
      "text/plain": [
       "<IPython.core.display.Javascript object>"
      ]
     },
     "metadata": {},
     "output_type": "display_data"
    },
    {
     "data": {
      "text/markdown": [
       "<span style=\"color:#33cc33\">Correct</span>"
      ],
      "text/plain": [
       "Correct"
      ]
     },
     "metadata": {},
     "output_type": "display_data"
    }
   ],
   "source": [
    "n_missing_prices = pd.isnull(reviews.price).sum()\n",
    "\n",
    "# Check your answer\n",
    "q3.check()"
   ]
  },
  {
   "cell_type": "code",
   "execution_count": 7,
   "id": "04544360",
   "metadata": {
    "execution": {
     "iopub.execute_input": "2022-07-02T02:29:04.683735Z",
     "iopub.status.busy": "2022-07-02T02:29:04.683352Z",
     "iopub.status.idle": "2022-07-02T02:29:04.688161Z",
     "shell.execute_reply": "2022-07-02T02:29:04.686858Z"
    },
    "papermill": {
     "duration": 0.014237,
     "end_time": "2022-07-02T02:29:04.690363",
     "exception": false,
     "start_time": "2022-07-02T02:29:04.676126",
     "status": "completed"
    },
    "tags": []
   },
   "outputs": [],
   "source": [
    "#q3.hint()\n",
    "#q3.solution()"
   ]
  },
  {
   "cell_type": "markdown",
   "id": "c4e3483f",
   "metadata": {
    "papermill": {
     "duration": 0.005567,
     "end_time": "2022-07-02T02:29:04.701802",
     "exception": false,
     "start_time": "2022-07-02T02:29:04.696235",
     "status": "completed"
    },
    "tags": []
   },
   "source": [
    "## 4.\n",
    "What are the most common wine-producing regions? Create a Series counting the number of times each value occurs in the `region_1` field. This field is often missing data, so replace missing values with `Unknown`. Sort in descending order.  Your output should look something like this:\n",
    "\n",
    "```\n",
    "Unknown                    21247\n",
    "Napa Valley                 4480\n",
    "                           ...  \n",
    "Bardolino Superiore            1\n",
    "Primitivo del Tarantino        1\n",
    "Name: region_1, Length: 1230, dtype: int64\n",
    "```"
   ]
  },
  {
   "cell_type": "code",
   "execution_count": 8,
   "id": "00f36aa6",
   "metadata": {
    "execution": {
     "iopub.execute_input": "2022-07-02T02:29:04.715302Z",
     "iopub.status.busy": "2022-07-02T02:29:04.714937Z",
     "iopub.status.idle": "2022-07-02T02:29:04.780850Z",
     "shell.execute_reply": "2022-07-02T02:29:04.779928Z"
    },
    "papermill": {
     "duration": 0.075288,
     "end_time": "2022-07-02T02:29:04.783028",
     "exception": false,
     "start_time": "2022-07-02T02:29:04.707740",
     "status": "completed"
    },
    "tags": []
   },
   "outputs": [
    {
     "data": {
      "application/javascript": [
       "parent.postMessage({\"jupyterEvent\": \"custom.exercise_interaction\", \"data\": {\"outcomeType\": 1, \"valueTowardsCompletion\": 0.25, \"interactionType\": 1, \"questionType\": 2, \"questionId\": \"4_ReviewsPerRegion\", \"learnToolsVersion\": \"0.3.4\", \"failureMessage\": \"\", \"exceptionClass\": \"\", \"trace\": \"\"}}, \"*\")"
      ],
      "text/plain": [
       "<IPython.core.display.Javascript object>"
      ]
     },
     "metadata": {},
     "output_type": "display_data"
    },
    {
     "data": {
      "text/markdown": [
       "<span style=\"color:#33cc33\">Correct</span>"
      ],
      "text/plain": [
       "Correct"
      ]
     },
     "metadata": {},
     "output_type": "display_data"
    }
   ],
   "source": [
    "\n",
    "\n",
    "\n",
    "reviews_per_region = reviews.region_1.fillna('Unknown').value_counts().sort_values(ascending=False)\n",
    "\n",
    "# Check your answer\n",
    "q4.check()"
   ]
  },
  {
   "cell_type": "code",
   "execution_count": 9,
   "id": "f194c562",
   "metadata": {
    "execution": {
     "iopub.execute_input": "2022-07-02T02:29:04.797167Z",
     "iopub.status.busy": "2022-07-02T02:29:04.796409Z",
     "iopub.status.idle": "2022-07-02T02:29:04.800790Z",
     "shell.execute_reply": "2022-07-02T02:29:04.799890Z"
    },
    "papermill": {
     "duration": 0.013861,
     "end_time": "2022-07-02T02:29:04.803009",
     "exception": false,
     "start_time": "2022-07-02T02:29:04.789148",
     "status": "completed"
    },
    "tags": []
   },
   "outputs": [],
   "source": [
    "#q4.hint()\n",
    "#q4.solution()"
   ]
  },
  {
   "cell_type": "markdown",
   "id": "18cadd9f",
   "metadata": {
    "papermill": {
     "duration": 0.005717,
     "end_time": "2022-07-02T02:29:04.814837",
     "exception": false,
     "start_time": "2022-07-02T02:29:04.809120",
     "status": "completed"
    },
    "tags": []
   },
   "source": [
    "# Keep going\n",
    "\n",
    "Move on to **[renaming and combining](https://www.kaggle.com/residentmario/renaming-and-combining)**."
   ]
  },
  {
   "cell_type": "markdown",
   "id": "de106516",
   "metadata": {
    "papermill": {
     "duration": 0.00554,
     "end_time": "2022-07-02T02:29:04.826202",
     "exception": false,
     "start_time": "2022-07-02T02:29:04.820662",
     "status": "completed"
    },
    "tags": []
   },
   "source": [
    "---\n",
    "\n",
    "\n",
    "\n",
    "\n",
    "*Have questions or comments? Visit the [course discussion forum](https://www.kaggle.com/learn/pandas/discussion) to chat with other learners.*"
   ]
  }
 ],
 "metadata": {
  "kernelspec": {
   "display_name": "Python 3",
   "language": "python",
   "name": "python3"
  },
  "language_info": {
   "codemirror_mode": {
    "name": "ipython",
    "version": 3
   },
   "file_extension": ".py",
   "mimetype": "text/x-python",
   "name": "python",
   "nbconvert_exporter": "python",
   "pygments_lexer": "ipython3",
   "version": "3.7.12"
  },
  "papermill": {
   "default_parameters": {},
   "duration": 14.045199,
   "end_time": "2022-07-02T02:29:05.452242",
   "environment_variables": {},
   "exception": null,
   "input_path": "__notebook__.ipynb",
   "output_path": "__notebook__.ipynb",
   "parameters": {},
   "start_time": "2022-07-02T02:28:51.407043",
   "version": "2.3.4"
  }
 },
 "nbformat": 4,
 "nbformat_minor": 5
}
