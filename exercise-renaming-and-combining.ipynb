{
 "cells": [
  {
   "cell_type": "markdown",
   "id": "4473be7d",
   "metadata": {
    "papermill": {
     "duration": 0.006891,
     "end_time": "2022-07-02T02:29:11.736438",
     "exception": false,
     "start_time": "2022-07-02T02:29:11.729547",
     "status": "completed"
    },
    "tags": []
   },
   "source": [
    "**This notebook is an exercise in the [Pandas](https://www.kaggle.com/learn/pandas) course.  You can reference the tutorial at [this link](https://www.kaggle.com/residentmario/renaming-and-combining).**\n",
    "\n",
    "---\n"
   ]
  },
  {
   "cell_type": "markdown",
   "id": "68551d90",
   "metadata": {
    "papermill": {
     "duration": 0.005732,
     "end_time": "2022-07-02T02:29:11.748480",
     "exception": false,
     "start_time": "2022-07-02T02:29:11.742748",
     "status": "completed"
    },
    "tags": []
   },
   "source": [
    "# Introduction\n",
    "\n",
    "Run the following cell to load your data and some utility functions."
   ]
  },
  {
   "cell_type": "code",
   "execution_count": 1,
   "id": "0b3c767d",
   "metadata": {
    "execution": {
     "iopub.execute_input": "2022-07-02T02:29:11.762584Z",
     "iopub.status.busy": "2022-07-02T02:29:11.761917Z",
     "iopub.status.idle": "2022-07-02T02:29:15.830954Z",
     "shell.execute_reply": "2022-07-02T02:29:15.828100Z"
    },
    "papermill": {
     "duration": 4.079423,
     "end_time": "2022-07-02T02:29:15.833859",
     "exception": false,
     "start_time": "2022-07-02T02:29:11.754436",
     "status": "completed"
    },
    "tags": []
   },
   "outputs": [
    {
     "name": "stdout",
     "output_type": "stream",
     "text": [
      "Setup complete.\n"
     ]
    }
   ],
   "source": [
    "import pandas as pd\n",
    "\n",
    "reviews = pd.read_csv(\"../input/wine-reviews/winemag-data-130k-v2.csv\", index_col=0)\n",
    "\n",
    "from learntools.core import binder; binder.bind(globals())\n",
    "from learntools.pandas.renaming_and_combining import *\n",
    "print(\"Setup complete.\")"
   ]
  },
  {
   "cell_type": "markdown",
   "id": "7e8c7061",
   "metadata": {
    "papermill": {
     "duration": 0.006253,
     "end_time": "2022-07-02T02:29:15.846564",
     "exception": false,
     "start_time": "2022-07-02T02:29:15.840311",
     "status": "completed"
    },
    "tags": []
   },
   "source": [
    "# Exercises\n",
    "\n",
    "View the first several lines of your data by running the cell below:"
   ]
  },
  {
   "cell_type": "code",
   "execution_count": 2,
   "id": "bc3a5f7b",
   "metadata": {
    "execution": {
     "iopub.execute_input": "2022-07-02T02:29:15.861555Z",
     "iopub.status.busy": "2022-07-02T02:29:15.861166Z",
     "iopub.status.idle": "2022-07-02T02:29:15.887131Z",
     "shell.execute_reply": "2022-07-02T02:29:15.885927Z"
    },
    "papermill": {
     "duration": 0.036481,
     "end_time": "2022-07-02T02:29:15.889626",
     "exception": false,
     "start_time": "2022-07-02T02:29:15.853145",
     "status": "completed"
    },
    "tags": []
   },
   "outputs": [
    {
     "data": {
      "text/html": [
       "<div>\n",
       "<style scoped>\n",
       "    .dataframe tbody tr th:only-of-type {\n",
       "        vertical-align: middle;\n",
       "    }\n",
       "\n",
       "    .dataframe tbody tr th {\n",
       "        vertical-align: top;\n",
       "    }\n",
       "\n",
       "    .dataframe thead th {\n",
       "        text-align: right;\n",
       "    }\n",
       "</style>\n",
       "<table border=\"1\" class=\"dataframe\">\n",
       "  <thead>\n",
       "    <tr style=\"text-align: right;\">\n",
       "      <th></th>\n",
       "      <th>country</th>\n",
       "      <th>description</th>\n",
       "      <th>designation</th>\n",
       "      <th>points</th>\n",
       "      <th>price</th>\n",
       "      <th>province</th>\n",
       "      <th>region_1</th>\n",
       "      <th>region_2</th>\n",
       "      <th>taster_name</th>\n",
       "      <th>taster_twitter_handle</th>\n",
       "      <th>title</th>\n",
       "      <th>variety</th>\n",
       "      <th>winery</th>\n",
       "    </tr>\n",
       "  </thead>\n",
       "  <tbody>\n",
       "    <tr>\n",
       "      <th>0</th>\n",
       "      <td>Italy</td>\n",
       "      <td>Aromas include tropical fruit, broom, brimston...</td>\n",
       "      <td>Vulkà Bianco</td>\n",
       "      <td>87</td>\n",
       "      <td>NaN</td>\n",
       "      <td>Sicily &amp; Sardinia</td>\n",
       "      <td>Etna</td>\n",
       "      <td>NaN</td>\n",
       "      <td>Kerin O’Keefe</td>\n",
       "      <td>@kerinokeefe</td>\n",
       "      <td>Nicosia 2013 Vulkà Bianco  (Etna)</td>\n",
       "      <td>White Blend</td>\n",
       "      <td>Nicosia</td>\n",
       "    </tr>\n",
       "    <tr>\n",
       "      <th>1</th>\n",
       "      <td>Portugal</td>\n",
       "      <td>This is ripe and fruity, a wine that is smooth...</td>\n",
       "      <td>Avidagos</td>\n",
       "      <td>87</td>\n",
       "      <td>15.0</td>\n",
       "      <td>Douro</td>\n",
       "      <td>NaN</td>\n",
       "      <td>NaN</td>\n",
       "      <td>Roger Voss</td>\n",
       "      <td>@vossroger</td>\n",
       "      <td>Quinta dos Avidagos 2011 Avidagos Red (Douro)</td>\n",
       "      <td>Portuguese Red</td>\n",
       "      <td>Quinta dos Avidagos</td>\n",
       "    </tr>\n",
       "    <tr>\n",
       "      <th>2</th>\n",
       "      <td>US</td>\n",
       "      <td>Tart and snappy, the flavors of lime flesh and...</td>\n",
       "      <td>NaN</td>\n",
       "      <td>87</td>\n",
       "      <td>14.0</td>\n",
       "      <td>Oregon</td>\n",
       "      <td>Willamette Valley</td>\n",
       "      <td>Willamette Valley</td>\n",
       "      <td>Paul Gregutt</td>\n",
       "      <td>@paulgwine</td>\n",
       "      <td>Rainstorm 2013 Pinot Gris (Willamette Valley)</td>\n",
       "      <td>Pinot Gris</td>\n",
       "      <td>Rainstorm</td>\n",
       "    </tr>\n",
       "    <tr>\n",
       "      <th>3</th>\n",
       "      <td>US</td>\n",
       "      <td>Pineapple rind, lemon pith and orange blossom ...</td>\n",
       "      <td>Reserve Late Harvest</td>\n",
       "      <td>87</td>\n",
       "      <td>13.0</td>\n",
       "      <td>Michigan</td>\n",
       "      <td>Lake Michigan Shore</td>\n",
       "      <td>NaN</td>\n",
       "      <td>Alexander Peartree</td>\n",
       "      <td>NaN</td>\n",
       "      <td>St. Julian 2013 Reserve Late Harvest Riesling ...</td>\n",
       "      <td>Riesling</td>\n",
       "      <td>St. Julian</td>\n",
       "    </tr>\n",
       "    <tr>\n",
       "      <th>4</th>\n",
       "      <td>US</td>\n",
       "      <td>Much like the regular bottling from 2012, this...</td>\n",
       "      <td>Vintner's Reserve Wild Child Block</td>\n",
       "      <td>87</td>\n",
       "      <td>65.0</td>\n",
       "      <td>Oregon</td>\n",
       "      <td>Willamette Valley</td>\n",
       "      <td>Willamette Valley</td>\n",
       "      <td>Paul Gregutt</td>\n",
       "      <td>@paulgwine</td>\n",
       "      <td>Sweet Cheeks 2012 Vintner's Reserve Wild Child...</td>\n",
       "      <td>Pinot Noir</td>\n",
       "      <td>Sweet Cheeks</td>\n",
       "    </tr>\n",
       "  </tbody>\n",
       "</table>\n",
       "</div>"
      ],
      "text/plain": [
       "    country                                        description  \\\n",
       "0     Italy  Aromas include tropical fruit, broom, brimston...   \n",
       "1  Portugal  This is ripe and fruity, a wine that is smooth...   \n",
       "2        US  Tart and snappy, the flavors of lime flesh and...   \n",
       "3        US  Pineapple rind, lemon pith and orange blossom ...   \n",
       "4        US  Much like the regular bottling from 2012, this...   \n",
       "\n",
       "                          designation  points  price           province  \\\n",
       "0                        Vulkà Bianco      87    NaN  Sicily & Sardinia   \n",
       "1                            Avidagos      87   15.0              Douro   \n",
       "2                                 NaN      87   14.0             Oregon   \n",
       "3                Reserve Late Harvest      87   13.0           Michigan   \n",
       "4  Vintner's Reserve Wild Child Block      87   65.0             Oregon   \n",
       "\n",
       "              region_1           region_2         taster_name  \\\n",
       "0                 Etna                NaN       Kerin O’Keefe   \n",
       "1                  NaN                NaN          Roger Voss   \n",
       "2    Willamette Valley  Willamette Valley        Paul Gregutt   \n",
       "3  Lake Michigan Shore                NaN  Alexander Peartree   \n",
       "4    Willamette Valley  Willamette Valley        Paul Gregutt   \n",
       "\n",
       "  taster_twitter_handle                                              title  \\\n",
       "0          @kerinokeefe                  Nicosia 2013 Vulkà Bianco  (Etna)   \n",
       "1            @vossroger      Quinta dos Avidagos 2011 Avidagos Red (Douro)   \n",
       "2           @paulgwine       Rainstorm 2013 Pinot Gris (Willamette Valley)   \n",
       "3                   NaN  St. Julian 2013 Reserve Late Harvest Riesling ...   \n",
       "4           @paulgwine   Sweet Cheeks 2012 Vintner's Reserve Wild Child...   \n",
       "\n",
       "          variety               winery  \n",
       "0     White Blend              Nicosia  \n",
       "1  Portuguese Red  Quinta dos Avidagos  \n",
       "2      Pinot Gris            Rainstorm  \n",
       "3        Riesling           St. Julian  \n",
       "4      Pinot Noir         Sweet Cheeks  "
      ]
     },
     "execution_count": 2,
     "metadata": {},
     "output_type": "execute_result"
    }
   ],
   "source": [
    "reviews.head()"
   ]
  },
  {
   "cell_type": "markdown",
   "id": "b4b646ac",
   "metadata": {
    "papermill": {
     "duration": 0.006107,
     "end_time": "2022-07-02T02:29:15.902590",
     "exception": false,
     "start_time": "2022-07-02T02:29:15.896483",
     "status": "completed"
    },
    "tags": []
   },
   "source": [
    "## 1.\n",
    "`region_1` and `region_2` are pretty uninformative names for locale columns in the dataset. Create a copy of `reviews` with these columns renamed to `region` and `locale`, respectively."
   ]
  },
  {
   "cell_type": "code",
   "execution_count": 3,
   "id": "f0a5ef62",
   "metadata": {
    "execution": {
     "iopub.execute_input": "2022-07-02T02:29:15.917691Z",
     "iopub.status.busy": "2022-07-02T02:29:15.916494Z",
     "iopub.status.idle": "2022-07-02T02:29:15.950269Z",
     "shell.execute_reply": "2022-07-02T02:29:15.949183Z"
    },
    "papermill": {
     "duration": 0.043865,
     "end_time": "2022-07-02T02:29:15.952808",
     "exception": false,
     "start_time": "2022-07-02T02:29:15.908943",
     "status": "completed"
    },
    "tags": []
   },
   "outputs": [
    {
     "data": {
      "application/javascript": [
       "parent.postMessage({\"jupyterEvent\": \"custom.exercise_interaction\", \"data\": {\"outcomeType\": 1, \"valueTowardsCompletion\": 0.25, \"interactionType\": 1, \"questionType\": 1, \"questionId\": \"1_RenameCols\", \"learnToolsVersion\": \"0.3.4\", \"failureMessage\": \"\", \"exceptionClass\": \"\", \"trace\": \"\"}}, \"*\")"
      ],
      "text/plain": [
       "<IPython.core.display.Javascript object>"
      ]
     },
     "metadata": {},
     "output_type": "display_data"
    },
    {
     "data": {
      "text/markdown": [
       "<span style=\"color:#33cc33\">Correct</span>"
      ],
      "text/plain": [
       "Correct"
      ]
     },
     "metadata": {},
     "output_type": "display_data"
    }
   ],
   "source": [
    "# Your code here\n",
    "renamed = reviews.rename(columns=dict(region_1='region', region_2='locale'))\n",
    "\n",
    "# Check your answer\n",
    "q1.check()"
   ]
  },
  {
   "cell_type": "code",
   "execution_count": 4,
   "id": "4eaeb4aa",
   "metadata": {
    "execution": {
     "iopub.execute_input": "2022-07-02T02:29:15.968371Z",
     "iopub.status.busy": "2022-07-02T02:29:15.967363Z",
     "iopub.status.idle": "2022-07-02T02:29:15.971982Z",
     "shell.execute_reply": "2022-07-02T02:29:15.971010Z"
    },
    "papermill": {
     "duration": 0.014953,
     "end_time": "2022-07-02T02:29:15.974399",
     "exception": false,
     "start_time": "2022-07-02T02:29:15.959446",
     "status": "completed"
    },
    "tags": []
   },
   "outputs": [],
   "source": [
    "#q1.hint()\n",
    "#q1.solution()"
   ]
  },
  {
   "cell_type": "markdown",
   "id": "4e1a7959",
   "metadata": {
    "papermill": {
     "duration": 0.006395,
     "end_time": "2022-07-02T02:29:15.987624",
     "exception": false,
     "start_time": "2022-07-02T02:29:15.981229",
     "status": "completed"
    },
    "tags": []
   },
   "source": [
    "## 2.\n",
    "Set the index name in the dataset to `wines`."
   ]
  },
  {
   "cell_type": "code",
   "execution_count": 5,
   "id": "d0099718",
   "metadata": {
    "execution": {
     "iopub.execute_input": "2022-07-02T02:29:16.002736Z",
     "iopub.status.busy": "2022-07-02T02:29:16.001983Z",
     "iopub.status.idle": "2022-07-02T02:29:16.035158Z",
     "shell.execute_reply": "2022-07-02T02:29:16.034381Z"
    },
    "papermill": {
     "duration": 0.043021,
     "end_time": "2022-07-02T02:29:16.037220",
     "exception": false,
     "start_time": "2022-07-02T02:29:15.994199",
     "status": "completed"
    },
    "tags": []
   },
   "outputs": [
    {
     "data": {
      "application/javascript": [
       "parent.postMessage({\"jupyterEvent\": \"custom.exercise_interaction\", \"data\": {\"outcomeType\": 1, \"valueTowardsCompletion\": 0.25, \"interactionType\": 1, \"questionType\": 1, \"questionId\": \"2_RenameIndex\", \"learnToolsVersion\": \"0.3.4\", \"failureMessage\": \"\", \"exceptionClass\": \"\", \"trace\": \"\"}}, \"*\")"
      ],
      "text/plain": [
       "<IPython.core.display.Javascript object>"
      ]
     },
     "metadata": {},
     "output_type": "display_data"
    },
    {
     "data": {
      "text/markdown": [
       "<span style=\"color:#33cc33\">Correct</span>"
      ],
      "text/plain": [
       "Correct"
      ]
     },
     "metadata": {},
     "output_type": "display_data"
    }
   ],
   "source": [
    "reindexed =reviews.rename_axis( 'wines')\n",
    "\n",
    "# Check your answer\n",
    "q2.check()"
   ]
  },
  {
   "cell_type": "code",
   "execution_count": 6,
   "id": "cdf8059a",
   "metadata": {
    "execution": {
     "iopub.execute_input": "2022-07-02T02:29:16.053372Z",
     "iopub.status.busy": "2022-07-02T02:29:16.052955Z",
     "iopub.status.idle": "2022-07-02T02:29:16.058653Z",
     "shell.execute_reply": "2022-07-02T02:29:16.057729Z"
    },
    "papermill": {
     "duration": 0.016979,
     "end_time": "2022-07-02T02:29:16.061735",
     "exception": false,
     "start_time": "2022-07-02T02:29:16.044756",
     "status": "completed"
    },
    "tags": []
   },
   "outputs": [],
   "source": [
    "#q2.hint()\n",
    "#q2.solution()"
   ]
  },
  {
   "cell_type": "markdown",
   "id": "40e99c2a",
   "metadata": {
    "papermill": {
     "duration": 0.006643,
     "end_time": "2022-07-02T02:29:16.075610",
     "exception": false,
     "start_time": "2022-07-02T02:29:16.068967",
     "status": "completed"
    },
    "tags": []
   },
   "source": [
    "## 3.\n",
    "The [Things on Reddit](https://www.kaggle.com/residentmario/things-on-reddit/data) dataset includes product links from a selection of top-ranked forums (\"subreddits\") on reddit.com. Run the cell below to load a dataframe of products mentioned on the */r/gaming* subreddit and another dataframe for products mentioned on the *r//movies* subreddit."
   ]
  },
  {
   "cell_type": "code",
   "execution_count": 7,
   "id": "d50f7b99",
   "metadata": {
    "execution": {
     "iopub.execute_input": "2022-07-02T02:29:16.092601Z",
     "iopub.status.busy": "2022-07-02T02:29:16.091702Z",
     "iopub.status.idle": "2022-07-02T02:29:16.107327Z",
     "shell.execute_reply": "2022-07-02T02:29:16.106263Z"
    },
    "papermill": {
     "duration": 0.027394,
     "end_time": "2022-07-02T02:29:16.110302",
     "exception": false,
     "start_time": "2022-07-02T02:29:16.082908",
     "status": "completed"
    },
    "tags": []
   },
   "outputs": [],
   "source": [
    "gaming_products = pd.read_csv(\"../input/things-on-reddit/top-things/top-things/reddits/g/gaming.csv\")\n",
    "gaming_products['subreddit'] = \"r/gaming\"\n",
    "movie_products = pd.read_csv(\"../input/things-on-reddit/top-things/top-things/reddits/m/movies.csv\")\n",
    "movie_products['subreddit'] = \"r/movies\""
   ]
  },
  {
   "cell_type": "markdown",
   "id": "e034ce01",
   "metadata": {
    "papermill": {
     "duration": 0.007079,
     "end_time": "2022-07-02T02:29:16.124944",
     "exception": false,
     "start_time": "2022-07-02T02:29:16.117865",
     "status": "completed"
    },
    "tags": []
   },
   "source": [
    "Create a `DataFrame` of products mentioned on *either* subreddit."
   ]
  },
  {
   "cell_type": "code",
   "execution_count": 8,
   "id": "ef710924",
   "metadata": {
    "execution": {
     "iopub.execute_input": "2022-07-02T02:29:16.142276Z",
     "iopub.status.busy": "2022-07-02T02:29:16.141846Z",
     "iopub.status.idle": "2022-07-02T02:29:16.159043Z",
     "shell.execute_reply": "2022-07-02T02:29:16.157828Z"
    },
    "papermill": {
     "duration": 0.029679,
     "end_time": "2022-07-02T02:29:16.161645",
     "exception": false,
     "start_time": "2022-07-02T02:29:16.131966",
     "status": "completed"
    },
    "tags": []
   },
   "outputs": [
    {
     "data": {
      "application/javascript": [
       "parent.postMessage({\"jupyterEvent\": \"custom.exercise_interaction\", \"data\": {\"outcomeType\": 1, \"valueTowardsCompletion\": 0.25, \"interactionType\": 1, \"questionType\": 2, \"questionId\": \"3_ConcatReddit\", \"learnToolsVersion\": \"0.3.4\", \"failureMessage\": \"\", \"exceptionClass\": \"\", \"trace\": \"\"}}, \"*\")"
      ],
      "text/plain": [
       "<IPython.core.display.Javascript object>"
      ]
     },
     "metadata": {},
     "output_type": "display_data"
    },
    {
     "data": {
      "text/markdown": [
       "<span style=\"color:#33cc33\">Correct</span>"
      ],
      "text/plain": [
       "Correct"
      ]
     },
     "metadata": {},
     "output_type": "display_data"
    }
   ],
   "source": [
    "combined_products = pd.concat([gaming_products,movie_products])\n",
    "\n",
    "# Check your answer\n",
    "q3.check()"
   ]
  },
  {
   "cell_type": "code",
   "execution_count": 9,
   "id": "34e4c0de",
   "metadata": {
    "execution": {
     "iopub.execute_input": "2022-07-02T02:29:16.178527Z",
     "iopub.status.busy": "2022-07-02T02:29:16.178128Z",
     "iopub.status.idle": "2022-07-02T02:29:16.182246Z",
     "shell.execute_reply": "2022-07-02T02:29:16.181176Z"
    },
    "papermill": {
     "duration": 0.015304,
     "end_time": "2022-07-02T02:29:16.184573",
     "exception": false,
     "start_time": "2022-07-02T02:29:16.169269",
     "status": "completed"
    },
    "tags": []
   },
   "outputs": [],
   "source": [
    "#q3.hint()\n",
    "#q3.solution()"
   ]
  },
  {
   "cell_type": "markdown",
   "id": "06140ce1",
   "metadata": {
    "papermill": {
     "duration": 0.006858,
     "end_time": "2022-07-02T02:29:16.199401",
     "exception": false,
     "start_time": "2022-07-02T02:29:16.192543",
     "status": "completed"
    },
    "tags": []
   },
   "source": [
    "## 4.\n",
    "The [Powerlifting Database](https://www.kaggle.com/open-powerlifting/powerlifting-database) dataset on Kaggle includes one CSV table for powerlifting meets and a separate one for powerlifting competitors. Run the cell below to load these datasets into dataframes:"
   ]
  },
  {
   "cell_type": "code",
   "execution_count": 10,
   "id": "1fa2f4ec",
   "metadata": {
    "execution": {
     "iopub.execute_input": "2022-07-02T02:29:16.216120Z",
     "iopub.status.busy": "2022-07-02T02:29:16.215446Z",
     "iopub.status.idle": "2022-07-02T02:29:17.089729Z",
     "shell.execute_reply": "2022-07-02T02:29:17.088572Z"
    },
    "papermill": {
     "duration": 0.885638,
     "end_time": "2022-07-02T02:29:17.092275",
     "exception": false,
     "start_time": "2022-07-02T02:29:16.206637",
     "status": "completed"
    },
    "tags": []
   },
   "outputs": [],
   "source": [
    "powerlifting_meets = pd.read_csv(\"../input/powerlifting-database/meets.csv\")\n",
    "powerlifting_competitors = pd.read_csv(\"../input/powerlifting-database/openpowerlifting.csv\")"
   ]
  },
  {
   "cell_type": "markdown",
   "id": "e185b3f1",
   "metadata": {
    "papermill": {
     "duration": 0.007689,
     "end_time": "2022-07-02T02:29:17.107449",
     "exception": false,
     "start_time": "2022-07-02T02:29:17.099760",
     "status": "completed"
    },
    "tags": []
   },
   "source": [
    "Both tables include references to a `MeetID`, a unique key for each meet (competition) included in the database. Using this, generate a dataset combining the two tables into one."
   ]
  },
  {
   "cell_type": "code",
   "execution_count": 11,
   "id": "4267f4c3",
   "metadata": {
    "execution": {
     "iopub.execute_input": "2022-07-02T02:29:17.124044Z",
     "iopub.status.busy": "2022-07-02T02:29:17.123649Z",
     "iopub.status.idle": "2022-07-02T02:29:18.304483Z",
     "shell.execute_reply": "2022-07-02T02:29:18.303429Z"
    },
    "papermill": {
     "duration": 1.192424,
     "end_time": "2022-07-02T02:29:18.306992",
     "exception": false,
     "start_time": "2022-07-02T02:29:17.114568",
     "status": "completed"
    },
    "tags": []
   },
   "outputs": [
    {
     "data": {
      "application/javascript": [
       "parent.postMessage({\"jupyterEvent\": \"custom.exercise_interaction\", \"data\": {\"outcomeType\": 1, \"valueTowardsCompletion\": 0.25, \"interactionType\": 1, \"questionType\": 2, \"questionId\": \"4_JoinLifting\", \"learnToolsVersion\": \"0.3.4\", \"failureMessage\": \"\", \"exceptionClass\": \"\", \"trace\": \"\"}}, \"*\")"
      ],
      "text/plain": [
       "<IPython.core.display.Javascript object>"
      ]
     },
     "metadata": {},
     "output_type": "display_data"
    },
    {
     "data": {
      "text/markdown": [
       "<span style=\"color:#33cc33\">Correct</span>"
      ],
      "text/plain": [
       "Correct"
      ]
     },
     "metadata": {},
     "output_type": "display_data"
    }
   ],
   "source": [
    "\n",
    "left = powerlifting_meets.set_index(['MeetID'])\n",
    "right = powerlifting_competitors.set_index(['MeetID'])\n",
    "\n",
    "left.join(right, lsuffix='powerlifting_meets', rsuffix='powerlifting_competitors')\n",
    "\n",
    "\n",
    "powerlifting_combined =left.join(right, lsuffix='powerlifting_meets', rsuffix='powerlifting_competitors')\n",
    "\n",
    "# Check your answer\n",
    "q4.check()"
   ]
  },
  {
   "cell_type": "code",
   "execution_count": 12,
   "id": "941eb4a7",
   "metadata": {
    "execution": {
     "iopub.execute_input": "2022-07-02T02:29:18.323574Z",
     "iopub.status.busy": "2022-07-02T02:29:18.323173Z",
     "iopub.status.idle": "2022-07-02T02:29:18.328298Z",
     "shell.execute_reply": "2022-07-02T02:29:18.327068Z"
    },
    "papermill": {
     "duration": 0.016108,
     "end_time": "2022-07-02T02:29:18.330531",
     "exception": false,
     "start_time": "2022-07-02T02:29:18.314423",
     "status": "completed"
    },
    "tags": []
   },
   "outputs": [],
   "source": [
    "#q4.hint()\n",
    "#q4.solution()"
   ]
  },
  {
   "cell_type": "markdown",
   "id": "58df3f3e",
   "metadata": {
    "papermill": {
     "duration": 0.007458,
     "end_time": "2022-07-02T02:29:18.345683",
     "exception": false,
     "start_time": "2022-07-02T02:29:18.338225",
     "status": "completed"
    },
    "tags": []
   },
   "source": [
    "# Congratulations!\n",
    "\n",
    "You've finished the Pandas micro-course.  Many data scientists feel efficiency with Pandas is the most useful and practical skill they have, because it allows you to progress quickly in any project you have.\n",
    "\n",
    "If you'd like to apply your new skills to examining geospatial data, you're encouraged to check out our **[Geospatial Analysis](https://www.kaggle.com/learn/geospatial-analysis)** micro-course.\n",
    "\n",
    "You can also take advantage of your Pandas skills by entering a **[Kaggle Competition](https://www.kaggle.com/competitions)** or by answering a question you find interesting using **[Kaggle Datasets](https://www.kaggle.com/datasets)**."
   ]
  },
  {
   "cell_type": "markdown",
   "id": "2d551703",
   "metadata": {
    "papermill": {
     "duration": 0.007328,
     "end_time": "2022-07-02T02:29:18.360596",
     "exception": false,
     "start_time": "2022-07-02T02:29:18.353268",
     "status": "completed"
    },
    "tags": []
   },
   "source": [
    "---\n",
    "\n",
    "\n",
    "\n",
    "\n",
    "*Have questions or comments? Visit the [course discussion forum](https://www.kaggle.com/learn/pandas/discussion) to chat with other learners.*"
   ]
  }
 ],
 "metadata": {
  "kernelspec": {
   "display_name": "Python 3",
   "language": "python",
   "name": "python3"
  },
  "language_info": {
   "codemirror_mode": {
    "name": "ipython",
    "version": 3
   },
   "file_extension": ".py",
   "mimetype": "text/x-python",
   "name": "python",
   "nbconvert_exporter": "python",
   "pygments_lexer": "ipython3",
   "version": "3.7.12"
  },
  "papermill": {
   "default_parameters": {},
   "duration": 17.661865,
   "end_time": "2022-07-02T02:29:19.090020",
   "environment_variables": {},
   "exception": null,
   "input_path": "__notebook__.ipynb",
   "output_path": "__notebook__.ipynb",
   "parameters": {},
   "start_time": "2022-07-02T02:29:01.428155",
   "version": "2.3.4"
  }
 },
 "nbformat": 4,
 "nbformat_minor": 5
}
